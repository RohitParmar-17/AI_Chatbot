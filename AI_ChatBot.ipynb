{
  "nbformat": 4,
  "nbformat_minor": 0,
  "metadata": {
    "colab": {
      "provenance": []
    },
    "kernelspec": {
      "name": "python3",
      "display_name": "Python 3"
    },
    "language_info": {
      "name": "python"
    }
  },
  "cells": [
    {
      "cell_type": "markdown",
      "source": [
        "#Installing and Importing"
      ],
      "metadata": {
        "id": "m60yj5qbaz76"
      }
    },
    {
      "cell_type": "code",
      "source": [
        "import random\n",
        "import json\n",
        "import pickle\n",
        "import numpy as np\n",
        "import tensorflow as tf\n",
        "\n",
        "import nltk\n",
        "from nltk.stem import WordNetLemmatizer\n",
        "nltk.download('punkt')\n",
        "nltk.download('wordnet')"
      ],
      "metadata": {
        "colab": {
          "base_uri": "https://localhost:8080/"
        },
        "id": "-AdKDEjUUu0a",
        "outputId": "84b0ce54-a4e8-469a-ba6e-b98a398ad9d3"
      },
      "execution_count": 71,
      "outputs": [
        {
          "output_type": "stream",
          "name": "stderr",
          "text": [
            "[nltk_data] Downloading package punkt to /root/nltk_data...\n",
            "[nltk_data]   Package punkt is already up-to-date!\n",
            "[nltk_data] Downloading package wordnet to /root/nltk_data...\n",
            "[nltk_data]   Package wordnet is already up-to-date!\n"
          ]
        },
        {
          "output_type": "execute_result",
          "data": {
            "text/plain": [
              "True"
            ]
          },
          "metadata": {},
          "execution_count": 71
        }
      ]
    },
    {
      "cell_type": "code",
      "source": [
        "lemmatizer = WordNetLemmatizer()"
      ],
      "metadata": {
        "id": "vs1R46xFUuxk"
      },
      "execution_count": 72,
      "outputs": []
    },
    {
      "cell_type": "markdown",
      "source": [
        "#Load JSON File"
      ],
      "metadata": {
        "id": "LRXW2vada7SP"
      }
    },
    {
      "cell_type": "code",
      "source": [
        "intents = json.loads(open('intents.json').read())"
      ],
      "metadata": {
        "id": "RY9_tlXQUutl"
      },
      "execution_count": 73,
      "outputs": []
    },
    {
      "cell_type": "markdown",
      "source": [
        "#Code"
      ],
      "metadata": {
        "id": "ZADq0bkQbBr3"
      }
    },
    {
      "cell_type": "code",
      "source": [
        "words = []\n",
        "classes = []\n",
        "documents = []\n",
        "ignoreLetters = ['?', '!', '.', ',']\n",
        "\n",
        "for intent in intents['intents']:\n",
        "    for pattern in intent['patterns']:\n",
        "        wordList = nltk.word_tokenize(pattern)\n",
        "        words.extend(wordList)\n",
        "        documents.append((wordList, intent['tag']))\n",
        "        if intent['tag'] not in classes:\n",
        "            classes.append(intent['tag'])"
      ],
      "metadata": {
        "id": "27FnNKwxUuqP"
      },
      "execution_count": 74,
      "outputs": []
    },
    {
      "cell_type": "code",
      "source": [
        "words = [lemmatizer.lemmatize(word) for word in words if word not in ignoreLetters]\n",
        "words = sorted(set(words))\n",
        "classes = sorted(set(classes))"
      ],
      "metadata": {
        "id": "_54ksOjTUumy"
      },
      "execution_count": 75,
      "outputs": []
    },
    {
      "cell_type": "markdown",
      "source": [
        "#Save the files"
      ],
      "metadata": {
        "id": "3D_nGVtzbKGQ"
      }
    },
    {
      "cell_type": "code",
      "source": [
        "pickle.dump(words, open('words.pkl', 'wb'))\n",
        "pickle.dump(classes, open('classes.pkl', 'wb'))"
      ],
      "metadata": {
        "id": "hNG1GfXeUukF"
      },
      "execution_count": 76,
      "outputs": []
    },
    {
      "cell_type": "markdown",
      "source": [
        "#Training the Model"
      ],
      "metadata": {
        "id": "xj07Vxbsbqrf"
      }
    },
    {
      "cell_type": "markdown",
      "source": [
        "##Train"
      ],
      "metadata": {
        "id": "PxMAXclVgpho"
      }
    },
    {
      "cell_type": "code",
      "source": [
        "training = []\n",
        "outputEmpty = [0] * len(classes)"
      ],
      "metadata": {
        "id": "bhQ-52X3UuhB"
      },
      "execution_count": 77,
      "outputs": []
    },
    {
      "cell_type": "code",
      "source": [
        "for document in documents:\n",
        "    bag = []\n",
        "    wordPatterns = document[0]\n",
        "    wordPatterns = [lemmatizer.lemmatize(word.lower()) for word in wordPatterns]\n",
        "    for word in words:\n",
        "        bag.append(1) if word in wordPatterns else bag.append(0)\n",
        "\n",
        "    outputRow = list(outputEmpty)\n",
        "    outputRow[classes.index(document[1])] = 1\n",
        "    training.append(bag + outputRow)"
      ],
      "metadata": {
        "id": "VTQT1St4b4Mo"
      },
      "execution_count": 78,
      "outputs": []
    },
    {
      "cell_type": "code",
      "source": [
        "random.shuffle(training)\n",
        "training = np.array(training)\n",
        "\n",
        "trainX = training[:, :len(words)]\n",
        "trainY = training[:, len(words):]"
      ],
      "metadata": {
        "id": "_SRNunSscS14"
      },
      "execution_count": 79,
      "outputs": []
    },
    {
      "cell_type": "markdown",
      "source": [
        "##Layers"
      ],
      "metadata": {
        "id": "VPWgljj6gviI"
      }
    },
    {
      "cell_type": "code",
      "source": [
        "model = tf.keras.Sequential()\n",
        "model.add(tf.keras.layers.Dense(128, input_shape=(len(trainX[0]),), activation = 'relu'))\n",
        "model.add(tf.keras.layers.Dropout(0.5))\n",
        "model.add(tf.keras.layers.Dense(64, activation = 'relu'))\n",
        "model.add(tf.keras.layers.Dropout(0.5))\n",
        "model.add(tf.keras.layers.Dense(len(trainY[0]), activation='softmax'))"
      ],
      "metadata": {
        "id": "CwHtWQn5dARy"
      },
      "execution_count": 80,
      "outputs": []
    },
    {
      "cell_type": "code",
      "source": [
        "sgd = tf.keras.optimizers.SGD(learning_rate=0.01, momentum=0.9, nesterov=True)\n",
        "model.compile(loss='categorical_crossentropy', optimizer=sgd, metrics=['accuracy'])"
      ],
      "metadata": {
        "id": "WN7DhaSDdryy"
      },
      "execution_count": 81,
      "outputs": []
    },
    {
      "cell_type": "markdown",
      "source": [
        "##Fit"
      ],
      "metadata": {
        "id": "y49OBrq5gysa"
      }
    },
    {
      "cell_type": "code",
      "source": [
        "hist = model.fit(np.array(trainX), np.array(trainY), epochs=200, batch_size=5, verbose=1)"
      ],
      "metadata": {
        "id": "sG0k8NFmdtvx"
      },
      "execution_count": null,
      "outputs": []
    },
    {
      "cell_type": "markdown",
      "source": [
        "##Save Model"
      ],
      "metadata": {
        "id": "cForuInYg0vv"
      }
    },
    {
      "cell_type": "code",
      "source": [
        "model.save('chatbot_model',hist)\n",
        "print('Done')"
      ],
      "metadata": {
        "colab": {
          "base_uri": "https://localhost:8080/"
        },
        "id": "fvoAjTrvdvgX",
        "outputId": "4a29c36b-9ec4-4df9-a07c-84baa8c766c8"
      },
      "execution_count": 83,
      "outputs": [
        {
          "output_type": "stream",
          "name": "stdout",
          "text": [
            "Done\n"
          ]
        }
      ]
    },
    {
      "cell_type": "markdown",
      "source": [
        "#Creating ChatBot"
      ],
      "metadata": {
        "id": "E3AtpeqEe6GY"
      }
    },
    {
      "cell_type": "markdown",
      "source": [
        "##Load Files"
      ],
      "metadata": {
        "id": "iMuFVI0lg-L4"
      }
    },
    {
      "cell_type": "code",
      "source": [
        "from tensorflow.keras.models import load_model"
      ],
      "metadata": {
        "id": "sQRfxqLce47n"
      },
      "execution_count": 84,
      "outputs": []
    },
    {
      "cell_type": "code",
      "source": [
        "words = pickle.load(open('words.pkl','rb'))\n",
        "classes = pickle.load(open('classes.pkl','rb'))\n",
        "model = load_model('chatbot_model')"
      ],
      "metadata": {
        "id": "QQCeSJLFfTyH"
      },
      "execution_count": 85,
      "outputs": []
    },
    {
      "cell_type": "markdown",
      "source": [
        "##Functions"
      ],
      "metadata": {
        "id": "lZLea9q0hEP3"
      }
    },
    {
      "cell_type": "code",
      "source": [
        "def clean_up_sentence(sentence):\n",
        "  sentence_words = nltk.word_tokenize(sentence)\n",
        "  sentence_words = [lemmatizer.lemmatize(word) for word in sentence_words]\n",
        "  return sentence_words"
      ],
      "metadata": {
        "id": "7gOPszOMgAUb"
      },
      "execution_count": 86,
      "outputs": []
    },
    {
      "cell_type": "code",
      "source": [
        "def bag_of_words(sentence):\n",
        "  sentence_words = clean_up_sentence(sentence)\n",
        "  bag = [0]*len(words)\n",
        "  for w in sentence_words:\n",
        "    for i, word in enumerate(words):\n",
        "      if word == w:\n",
        "        bag[i] = 1\n",
        "  return np.array(bag)"
      ],
      "metadata": {
        "id": "zd4WTeeaiQH6"
      },
      "execution_count": 87,
      "outputs": []
    },
    {
      "cell_type": "code",
      "source": [
        "def predict_class(sentence):\n",
        "  bow = bag_of_words(sentence)\n",
        "  res = model.predict(np.array([bow]))[0]\n",
        "  ERROR_THRESHOLD = 0.25\n",
        "  results = [[i,r] for i,r in enumerate(res) if r > ERROR_THRESHOLD]\n",
        "  results.sort(key=lambda x:x[1], reverse=True)\n",
        "  return_list = []\n",
        "  for r in results:\n",
        "    return_list.append({'intent':classes[r[0]],'probability':str(r[1])})\n",
        "  return return_list"
      ],
      "metadata": {
        "id": "BgsmOaQHjEB2"
      },
      "execution_count": 88,
      "outputs": []
    },
    {
      "cell_type": "code",
      "source": [
        "def get_response(intents_list,intents_json):\n",
        "  tag = intents_list[0][\"intent\"]\n",
        "  list_of_intents = intents_json['intents']\n",
        "  for i in list_of_intents:\n",
        "    if i['tag'] == tag:\n",
        "      result = random.choice(i['responses'])\n",
        "      break\n",
        "  return result"
      ],
      "metadata": {
        "id": "Zk7gSMmnl9xE"
      },
      "execution_count": 89,
      "outputs": []
    },
    {
      "cell_type": "markdown",
      "source": [
        "##Run"
      ],
      "metadata": {
        "id": "LO4K0HBvljC8"
      }
    },
    {
      "cell_type": "code",
      "source": [
        "print(\"Bot is running!\")\n",
        "print(classes)\n",
        "while True:\n",
        "    message = input(\"\")\n",
        "    if message.lower() == \"stop\":\n",
        "        print(\"Stopping the bot...\")\n",
        "        break\n",
        "    else:\n",
        "        ints = predict_class(message)\n",
        "        res = get_response(ints, intents)\n",
        "        print(res)\n"
      ],
      "metadata": {
        "colab": {
          "base_uri": "https://localhost:8080/"
        },
        "id": "qb85RVz1lila",
        "outputId": "80f269ab-4baf-407c-f37f-5d5916ce6d3b"
      },
      "execution_count": 92,
      "outputs": [
        {
          "output_type": "stream",
          "name": "stdout",
          "text": [
            "Bot is running!\n",
            "['about', 'goodbye', 'greeting', 'programming', 'resource', 'stocks']\n",
            "stop\n",
            "Stopping the bot...\n"
          ]
        }
      ]
    }
  ]
}